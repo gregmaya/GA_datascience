{
 "cells": [
  {
   "cell_type": "markdown",
   "metadata": {},
   "source": [
    "<img src=\"http://imgur.com/1ZcRyrc.png\" style=\"float: left; margin: 20px; height: 55px\">\n",
    "\n",
    "# Project 1: Python Coding Exercises\n",
    "\n",
    "_Authors: Joseph Nelson (DC) _\n",
    "\n",
    "---"
   ]
  },
  {
   "cell_type": "markdown",
   "metadata": {},
   "source": [
    "The following code challenges are drawn from common exercises used in technical interviews.\n",
    "\n",
    "Please note that there may be several ways to approach each challenge. If you get stuck, try mapping out your approach in pseudocode first. Finally, while solutions to problems like these may be found online, remember that if you copy/paste code that you can't explain, you'll be missing out on the point of the project. The only way to truly learn a new skill is through practice, trial, and error - we can only help you improve by understanding where you are having trouble."
   ]
  },
  {
   "cell_type": "markdown",
   "metadata": {},
   "source": [
    "### Challenge 1: Largest Palindrome\n",
    "A palindromic number reads the same both ways. For example, 1234321 is a palindrome. The largest palindrome made from the product of two two-digit numbers is 9009 = 91 × 99. Find the largest palindrome made from the product of two three-digit numbers. Afterward, write a brief explanation walking through your code's logic in markdown."
   ]
  },
  {
   "cell_type": "code",
   "execution_count": null,
   "metadata": {},
   "outputs": [],
   "source": [
    "lst_3dig = list(range(100,1000))\n",
    "lst_3dig.reverse()  #this is to analyse first with the highest numbers.\n",
    "maxpalindrome = 0\n",
    "\n",
    "for a in lst_3dig:\n",
    "    for b in lst_3dig:\n",
    "        temp_product = a*b\n",
    "    \n",
    "        if temp_product > maxpalindrome:\n",
    "            indv_digits = [int(digit) for digit in str(temp_product)]\n",
    "            reverse_digits = indv_digits[::-1]\n",
    "            \n",
    "            if indv_digits == reverse_digits:\n",
    "                maxpalindrome = temp_product\n",
    "                print(\"Palindrome from multiplying: \"+ str(a) + \" and \" +str(b))\n",
    "                \n",
    "print(\"Largest palindrome: \"+str(maxpalindrome))\n"
   ]
  },
  {
   "cell_type": "markdown",
   "metadata": {},
   "source": [
    "#### Brief explanation\n",
    "1. Multiplying all three digit below (starting in reverse order expecting to arrive sooner to the final answer)\n",
    "2. Check if the number is larger than the one previously set (starting with a dummy \"0\")\n",
    "    - if so: create a list consisting of elements with individual digits as per its elements.\n",
    "    - reverse such a list to easily compare.\n",
    "3. Compare the two lists to verify it's effectively a palindrome.\n",
    "    - replace the original dummy variable with the new product if TRUE to all of the above"
   ]
  },
  {
   "cell_type": "markdown",
   "metadata": {},
   "source": [
    "\n",
    "### Challenge 2: Summation of Primes\n",
    "The sum of the primes below 10 is 2 + 3 + 5 + 7 = 17. Find the sum of all the primes below 2,000. Afterward, write a brief explanation walking through your code's logic in markdown."
   ]
  },
  {
   "cell_type": "code",
   "execution_count": null,
   "metadata": {},
   "outputs": [],
   "source": [
    "num_till2000 = list(range(2,2000))\n",
    "lst_primes = []\n",
    "\n",
    "for n in num_till2000:\n",
    "    poss_dividers= list(range(2,n))\n",
    "    temp_results=[]\n",
    "    for divider in poss_dividers:\n",
    "        if n%divider ==0:\n",
    "            temp_results.append(n/divider)\n",
    "    if len(temp_results) == 0:\n",
    "        lst_primes.append(n)\n",
    "        \n",
    "print(\"The sum of all primes below 2000 is : \" + str(sum(lst_primes)))\n",
    "print(\"\")\n",
    "#print(\"Prime numbers : \"+ str(lst_primes))"
   ]
  },
  {
   "cell_type": "markdown",
   "metadata": {},
   "source": [
    "#### Brief explanation\n",
    "\n",
    "1. Creating a list of all the primes below 2000 (knowing that 1 is not a prime. Therefore starting range is 2)\n",
    "    - For each of those numbers create a list containing all its possible dividers (excluding 1 and itself) \n",
    "    - Evaulate if their modulo equals 0 --> hence the number is actually divisible by some other number and therefore not a prime\n",
    "        - store in a temp list.\n",
    "    - If such a list has 0 elements --> The number is a prime !\n",
    "        - store in a list of primes.\n",
    "2. Sum the elements of the list containing the primes.\n",
    "    -(optional) print all the primes - uncomment the last line."
   ]
  },
  {
   "cell_type": "markdown",
   "metadata": {},
   "source": [
    "### Challenge 3: Multiples of 3 and 5\n",
    "If we list all of the natural numbers below 10 that are multiples of 3 or 5, we get 3, 5, 6, and 9. The sum of these multiples is 23. Find the sum of all the multiples of 3 and 5 below 1,000. Afterward, write a brief explanation walking through your code's logic in markdown."
   ]
  },
  {
   "cell_type": "code",
   "execution_count": null,
   "metadata": {},
   "outputs": [],
   "source": [
    "mults3 = [3*n for n in list(range(1,334))]\n",
    "mults5 = [5*n for n in list(range(1,200))]\n",
    "\n",
    "comb_mults = list(set(mults3) | set(mults5))\n",
    "\n",
    "print(\"The sum of combines multiples of 3 and 5 is: \" + str(sum(comb_mults)))\n",
    "print(\"\")\n",
    "#print(comb_mults)\n",
    "                                                            "
   ]
  },
  {
   "cell_type": "markdown",
   "metadata": {},
   "source": [
    "#### Brief explanation\n",
    "\n",
    "1. Create two lists with the multiples of 3 and 5 respectively\n",
    "2. Combine the two lists into a new one by converting them to sets (which can only contain unique values) and selecting their union.\n",
    "3. Sum the elements of the combined list. \n",
    "\n",
    "\n",
    "* Note: the while loops I tried where taking to long so I restricted the ranges accordingly so as to not go over 1000."
   ]
  },
  {
   "cell_type": "markdown",
   "metadata": {},
   "source": [
    "### Challenge 4: String Compressor\n",
    "Implement a method to perform basic string compression using the counts of repeated characters. (This is called run-length encoding.) For example, the string \"aabcccccaaa\" would become a2b1c5a3. If the “compressed” string would not become smaller than the original string, your method should return the original string. You can assume the string has only uppercase and lowercase letters (a–z). Specify whether your solution is case sensitive or case insensitive and what you would need to change to make it the other. Afterward, write a brief explanation walking through your code's logic in markdown."
   ]
  },
  {
   "cell_type": "code",
   "execution_count": 218,
   "metadata": {},
   "outputs": [],
   "source": [
    "from itertools import chain\n",
    "\n",
    "def string_compressor(string):\n",
    "    #create a list of dictionaries with keys as characters and values as their count\n",
    "    lst = []\n",
    "    count = 1\n",
    "    \n",
    "    for i in range(len(string)):\n",
    "        tempdict = {string[i]:count}\n",
    "        if i == len(string)-1:\n",
    "            lst.append(tempdict)        \n",
    "        elif string[i] == string[i+1]:\n",
    "            count += 1\n",
    "            tempdict[string[i]] = count      \n",
    "        elif string != string[i] and string[i] == string[i-1]:\n",
    "            lst.append(tempdict)\n",
    "            count = 1      \n",
    "        else:\n",
    "            lst.append(tempdict)\n",
    "    #print(lst)\n",
    "    \n",
    "    #create a string with the individual parts of the lst above\n",
    "    list_transition = []\n",
    "    for dic in lst:\n",
    "        for key, value in dic.items():\n",
    "            temp = [key, value]\n",
    "            list_transition.append(temp)\n",
    "    #print(list_transition)\n",
    "    \n",
    "    list_to_concat = list(chain(*list_transition))\n",
    "    #print(list_to_concat)\n",
    "    compressed= \"\"\n",
    "    for c in list_to_concat:\n",
    "        compressed += str(c)\n",
    "    #print(compressed)\n",
    "    \n",
    "    #comparing the lenght of original string with compressed\n",
    "    if len(compressed) < len(string):\n",
    "        return compressed\n",
    "    else: \n",
    "        return string"
   ]
  },
  {
   "cell_type": "code",
   "execution_count": 226,
   "metadata": {},
   "outputs": [
    {
     "data": {
      "text/plain": [
       "'a2b1c5a3'"
      ]
     },
     "execution_count": 226,
     "metadata": {},
     "output_type": "execute_result"
    }
   ],
   "source": [
    "# === TEST ===\n",
    "string_compressor(\"aabcccccaaa\")"
   ]
  },
  {
   "cell_type": "markdown",
   "metadata": {},
   "source": [
    "#### Brief explanation\n",
    "\n",
    "1. Build a list of dictionaries where the keys are the characters and the values the counts of repetitive characters\n",
    "2. \"Unpack\" such a list to reduce it to a single string\n",
    "3. Compare the lenght of the compressed string with the original strig and return the shortest one. \n",
    "\n",
    "Note: This function is case sensitive. In order to transforme it to become case insensitive we would need to transform the original input all to be either lowercase or upper case. Then run the same lines. "
   ]
  },
  {
   "cell_type": "markdown",
   "metadata": {},
   "source": [
    "# Bonus - submit the solutions for the python-movies-lab from class 3"
   ]
  },
  {
   "cell_type": "code",
   "execution_count": null,
   "metadata": {},
   "outputs": [],
   "source": []
  }
 ],
 "metadata": {
  "anaconda-cloud": {},
  "kernelspec": {
   "display_name": "Python 3",
   "language": "python",
   "name": "python3"
  },
  "language_info": {
   "codemirror_mode": {
    "name": "ipython",
    "version": 3
   },
   "file_extension": ".py",
   "mimetype": "text/x-python",
   "name": "python",
   "nbconvert_exporter": "python",
   "pygments_lexer": "ipython3",
   "version": "3.7.3"
  }
 },
 "nbformat": 4,
 "nbformat_minor": 2
}
